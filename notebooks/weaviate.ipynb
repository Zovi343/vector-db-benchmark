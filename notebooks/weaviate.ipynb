{
 "cells": [
  {
   "cell_type": "markdown",
   "source": [
    "**Author:** J. Žovák, `482857@mail.muni.cz`"
   ],
   "metadata": {
    "collapsed": false
   },
   "id": "c75e783750ca3c37"
  },
  {
   "cell_type": "code",
   "execution_count": null,
   "outputs": [],
   "source": [
    "import weaviate\n",
    "import numpy as np\n",
    "\n",
    "client = weaviate.Client(\"https://weaviate.dyn.cloud.e-infra.cz/\")\n",
    "\n",
    "schema = {\n",
    "    \"classes\": [{\n",
    "        \"class\": \"DummyItem\",\n",
    "        \"properties\": [\n",
    "            {\n",
    "                \"name\": \"name\",\n",
    "                \"dataType\": [\"string\"],\n",
    "            },\n",
    "            {\n",
    "                \"name\": \"vector\",\n",
    "                \"dataType\": [\"number[]\"],\n",
    "                \"vectorIndexType\": \"hnsw\",\n",
    "                \"vectorizer\": \"none\",\n",
    "            },\n",
    "        ],\n",
    "    }]\n",
    "}\n",
    "\n",
    "\n",
    "num_items = 10\n",
    "for i in range(num_items):\n",
    "    data_object = {\n",
    "        \"name\": f\"Item {i}\",\n",
    "        \"vector\": 1 \n",
    "    }\n",
    "    client.data_object.create(data_object, \"DummyItem\")\n",
    "\n",
    "query = \"\"\"\n",
    "{\n",
    "    Get {\n",
    "        DummyItem {\n",
    "            name\n",
    "            vector\n",
    "        }\n",
    "    }\n",
    "}\n",
    "\"\"\"\n",
    "results = client.query.raw(query)\n",
    "\n",
    "print(\"Query results:\", results)"
   ],
   "metadata": {
    "collapsed": false
   },
   "id": "9f53ad777555cf1c"
  }
 ],
 "metadata": {
  "kernelspec": {
   "display_name": "Python 3",
   "language": "python",
   "name": "python3"
  },
  "language_info": {
   "codemirror_mode": {
    "name": "ipython",
    "version": 2
   },
   "file_extension": ".py",
   "mimetype": "text/x-python",
   "name": "python",
   "nbconvert_exporter": "python",
   "pygments_lexer": "ipython2",
   "version": "2.7.6"
  }
 },
 "nbformat": 4,
 "nbformat_minor": 5
}
