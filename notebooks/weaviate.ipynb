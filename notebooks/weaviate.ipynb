{
 "cells": [
  {
   "cell_type": "code",
   "execution_count": 23,
   "outputs": [
    {
     "name": "stdout",
     "output_type": "stream",
     "text": [
      "Query results: {'data': {'Get': {'DummyItem': [{'name': 'Item 8', 'vector': 1}, {'name': 'Item 6', 'vector': 1}, {'name': 'Item 1', 'vector': 1}, {'name': 'Item 3', 'vector': 1}, {'name': 'Item 0', 'vector': 1}, {'name': 'Item 2', 'vector': 1}, {'name': 'Item 5', 'vector': 1}, {'name': 'Item 9', 'vector': 1}, {'name': 'Item 7', 'vector': 1}, {'name': 'Item 4', 'vector': 1}]}}}\n"
     ]
    }
   ],
   "source": [
    "import weaviate\n",
    "import numpy as np\n",
    "\n",
    "# Connect to the Weaviate instance\n",
    "client = weaviate.Client(\"https://weaviate.dyn.cloud.e-infra.cz/\")\n",
    "\n",
    "# Define the schema\n",
    "schema = {\n",
    "    \"classes\": [{\n",
    "        \"class\": \"DummyItem\",\n",
    "        \"properties\": [\n",
    "            {\n",
    "                \"name\": \"name\",\n",
    "                \"dataType\": [\"string\"],\n",
    "            },\n",
    "            {\n",
    "                \"name\": \"vector\",\n",
    "                \"dataType\": [\"number[]\"],\n",
    "                \"vectorIndexType\": \"hnsw\",\n",
    "                \"vectorizer\": \"none\",\n",
    "            },\n",
    "        ],\n",
    "    }]\n",
    "}\n",
    "\n",
    "# Create the schema\n",
    "# client.schema.create(schema)\n",
    "\n",
    "# Add dummy data\n",
    "num_items = 10\n",
    "for i in range(num_items):\n",
    "    data_object = {\n",
    "        \"name\": f\"Item {i}\",\n",
    "        \"vector\": 1 \n",
    "    }\n",
    "    client.data_object.create(data_object, \"DummyItem\")\n",
    "\n",
    "# Perform a query\n",
    "query = \"\"\"\n",
    "{\n",
    "    Get {\n",
    "        DummyItem {\n",
    "            name\n",
    "            vector\n",
    "        }\n",
    "    }\n",
    "}\n",
    "\"\"\"\n",
    "results = client.query.raw(query)\n",
    "\n",
    "# Print query results\n",
    "print(\"Query results:\", results)\n"
   ],
   "metadata": {
    "collapsed": false,
    "ExecuteTime": {
     "end_time": "2024-02-11T21:17:07.196780500Z",
     "start_time": "2024-02-11T21:17:05.573524500Z"
    }
   },
   "id": "9f53ad777555cf1c"
  }
 ],
 "metadata": {
  "kernelspec": {
   "display_name": "Python 3",
   "language": "python",
   "name": "python3"
  },
  "language_info": {
   "codemirror_mode": {
    "name": "ipython",
    "version": 2
   },
   "file_extension": ".py",
   "mimetype": "text/x-python",
   "name": "python",
   "nbconvert_exporter": "python",
   "pygments_lexer": "ipython2",
   "version": "2.7.6"
  }
 },
 "nbformat": 4,
 "nbformat_minor": 5
}
