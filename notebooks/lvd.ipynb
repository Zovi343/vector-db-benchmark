{
 "cells": [
  {
   "cell_type": "markdown",
   "source": [
    "**Author:** J. Žovák, `482857@mail.muni.cz`"
   ],
   "metadata": {
    "collapsed": false
   },
   "id": "23f2ad06158fd054"
  },
  {
   "cell_type": "markdown",
   "source": [
    "## LVD"
   ],
   "metadata": {
    "collapsed": false
   },
   "id": "a6cfbfb5ff00b02a"
  },
  {
   "cell_type": "code",
   "execution_count": null,
   "outputs": [],
   "source": [
    "from chromadb import HttpClient\n",
    "lvd_client = HttpClient(host=\"https://lvd.dyn.cloud.e-infra.cz/\")"
   ],
   "metadata": {
    "collapsed": false
   },
   "id": "cea0849b48f59da6"
  },
  {
   "cell_type": "code",
   "execution_count": null,
   "outputs": [],
   "source": [
    "n_categories = [2]\n",
    "\n",
    "index_configuraiton = {\n",
    "    \"lmi:epochs\": \"[200]\",\n",
    "    \"lmi:model_types\": \"['MLP']\",\n",
    "    \"lmi:lrs\": \"[0.01]\",\n",
    "    \"lmi:n_categories\": f\"{str(n_categories)}\",\n",
    "    \"lmi:kmeans\": \"{'verbose': False, 'seed': 2023, 'nredo': 10}\",\n",
    "}\n",
    "\n",
    "collections = lvd_client.list_collections()\n",
    "if collections:\n",
    "    lvd_client.delete_collection(collections[0].name)\n",
    "\n",
    "collection_name = \"synthetic_collection_2\"\n",
    "collection = lvd_client.create_collection(\n",
    "    name=collection_name,\n",
    "    metadata=index_configuraiton\n",
    ")"
   ],
   "metadata": {
    "collapsed": false
   },
   "id": "9a0a72f8d441fbe9"
  },
  {
   "cell_type": "code",
   "execution_count": null,
   "outputs": [],
   "source": [
    "collection.add(\n",
    "    embeddings=[[1.2, 2.3, 4.5], [6.7, 8.2, 9.2]],\n",
    "    documents=[\"This is a document\", \"This is another document\"],\n",
    "    metadatas=[{\"source\": \"my_source\"}, {\"source\": \"my_source\"}],\n",
    "    ids=[\"id1\", \"id2\"]\n",
    ")"
   ],
   "metadata": {
    "collapsed": false
   },
   "id": "c2488a6042cf7085"
  },
  {
   "cell_type": "code",
   "execution_count": null,
   "outputs": [],
   "source": [
    "bucket_assignment = collection.build_index()"
   ],
   "metadata": {
    "collapsed": false
   },
   "id": "a50950d3902cc49f"
  },
  {
   "cell_type": "code",
   "execution_count": null,
   "outputs": [],
   "source": [
    "results = collection.query(\n",
    "    query_embeddings=list([1.2, 2.3, 4.5]),\n",
    "    include=[\"metadatas\", 'embeddings', 'distances'],\n",
    "    where=None,\n",
    "    n_results=2,\n",
    "    n_buckets=2,\n",
    "    bruteforce_threshold=0.0,\n",
    "    constraint_weight=0.0,\n",
    "    search_until_bucket_not_empty=False,\n",
    ")"
   ],
   "metadata": {
    "collapsed": false
   },
   "id": "a17d59556cb47bd5"
  },
  {
   "cell_type": "code",
   "execution_count": null,
   "outputs": [],
   "source": [
    "results"
   ],
   "metadata": {
    "collapsed": false
   },
   "id": "bca7ec7d60875a2e"
  }
 ],
 "metadata": {
  "kernelspec": {
   "display_name": "Python 3",
   "language": "python",
   "name": "python3"
  },
  "language_info": {
   "codemirror_mode": {
    "name": "ipython",
    "version": 2
   },
   "file_extension": ".py",
   "mimetype": "text/x-python",
   "name": "python",
   "nbconvert_exporter": "python",
   "pygments_lexer": "ipython2",
   "version": "2.7.6"
  }
 },
 "nbformat": 4,
 "nbformat_minor": 5
}
