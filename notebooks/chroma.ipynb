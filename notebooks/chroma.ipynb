{
 "cells": [
  {
   "cell_type": "code",
   "execution_count": null,
   "id": "initial_id",
   "metadata": {
    "collapsed": true
   },
   "outputs": [],
   "source": [
    "from chromadb import HttpClient\n",
    "chroma_client = HttpClient(host=\"localhost\", port=8000)"
   ]
  },
  {
   "cell_type": "code",
   "execution_count": null,
   "outputs": [],
   "source": [
    "collections = chroma_client.list_collections()\n",
    "if collections:\n",
    "    chroma_client.delete_collection(collections[0].name)"
   ],
   "metadata": {
    "collapsed": false
   },
   "id": "43b2e68cfa4e7146"
  },
  {
   "cell_type": "code",
   "execution_count": null,
   "outputs": [],
   "source": [
    "chroma_collections = chroma_client.list_collections()\n",
    "if chroma_collections:\n",
    "    chroma_client.delete_collection(collections[0].name)\n",
    "\n",
    "collection_name = \"synthetic_collection_2\"\n",
    "chroma_collection = chroma_client.create_collection(\n",
    "    name=collection_name,\n",
    ")"
   ],
   "metadata": {
    "collapsed": false
   },
   "id": "9e9b0c76d265dfa1"
  },
  {
   "cell_type": "code",
   "execution_count": null,
   "outputs": [],
   "source": [
    "chroma_collection.add(\n",
    "    embeddings=[[1.2, 2.3, 4.5], [6.7, 8.2, 9.2]],\n",
    "    documents=[\"This is a document\", \"This is another document\"],\n",
    "    metadatas=[{\"source\": \"my_source\"}, {\"source\": \"my_source\"}],\n",
    "    ids=[\"id1\", \"id2\"]\n",
    ")"
   ],
   "metadata": {
    "collapsed": false
   },
   "id": "22078d7bd889c29a"
  },
  {
   "cell_type": "code",
   "execution_count": null,
   "outputs": [],
   "source": [
    "chroma_collection.build_index()"
   ],
   "metadata": {
    "collapsed": false
   },
   "id": "c6082f2f972d05f0"
  },
  {
   "cell_type": "markdown",
   "source": [],
   "metadata": {
    "collapsed": false
   },
   "id": "1c996664bfdad51b"
  }
 ],
 "metadata": {
  "kernelspec": {
   "display_name": "Python 3",
   "language": "python",
   "name": "python3"
  },
  "language_info": {
   "codemirror_mode": {
    "name": "ipython",
    "version": 2
   },
   "file_extension": ".py",
   "mimetype": "text/x-python",
   "name": "python",
   "nbconvert_exporter": "python",
   "pygments_lexer": "ipython2",
   "version": "2.7.6"
  }
 },
 "nbformat": 4,
 "nbformat_minor": 5
}
